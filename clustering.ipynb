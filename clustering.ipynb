{
 "cells": [
  {
   "cell_type": "markdown",
   "id": "adce67e6-0887-411a-a60d-9b2923145762",
   "metadata": {},
   "source": [
    "### Project Summary:\n",
    " Scalable Clustering Pipeline with PCA Visualization\n",
    "This project presents a modular data clustering pipeline built using Python’s Scikit-learn, designed to efficiently group multivariate data while offering intuitive visual insights. Beginning with robust data preprocessing—including exploratory analysis, irrelevant column removal, and feature scaling via StandardScaler—the workflow guides users through KMeans clustering supported by the Elbow Method to determine optimal cluster count. Dimensionality reduction is achieved using Principal Component Analysis (PCA), enabling a clean 3D visualization of cluster distribution. The code is cleanly structured for scalability and can be integrated into FastAPI or Dockerized microservices for real-world applications. Ideal for data science exploration, educational use, and adaptable clustering systems. \n",
    "\n"
   ]
  },
  {
   "cell_type": "code",
   "execution_count": null,
   "id": "9d24d512-45ee-4616-8c69-369fb534b82a",
   "metadata": {},
   "outputs": [],
   "source": [
    "import pandas as pd\n",
    "import numpy as np\n",
    "import seaborn as sns\n",
    "import matplotlib.pyplot as plt\n",
    "import warnings\n",
    "warnings.filterwarnings(\"ignore\")"
   ]
  },
  {
   "cell_type": "code",
   "execution_count": null,
   "id": "97394df2",
   "metadata": {},
   "outputs": [],
   "source": [
    "\n",
    "from sklearn.cluster import KMeans"
   ]
  },
  {
   "cell_type": "markdown",
   "id": "231139a2-edc1-4a7a-932b-70eca896dccf",
   "metadata": {},
   "source": [
    "## Step 1: Load and Inspect the Dataset\n",
    "\n",
    "We begin by loading the university dataset and inspecting its structure using `.info()` and `.describe()`. This helps identify missing values, data types, and feature distributions."
   ]
  },
  {
   "cell_type": "code",
   "execution_count": null,
   "id": "989f6983",
   "metadata": {},
   "outputs": [],
   "source": [
    "df=pd.read_excel(\"University_Clustering.xlsx\")\n",
    "df"
   ]
  },
  {
   "cell_type": "code",
   "execution_count": null,
   "id": "1deab75e",
   "metadata": {},
   "outputs": [],
   "source": [
    "df.info()"
   ]
  },
  {
   "cell_type": "code",
   "execution_count": null,
   "id": "02b42afe",
   "metadata": {},
   "outputs": [],
   "source": [
    "df.describe()"
   ]
  },
  {
   "cell_type": "code",
   "execution_count": null,
   "id": "4a0619fe",
   "metadata": {},
   "outputs": [],
   "source": [
    "df.drop(\"State\",axis=1,inplace=True)"
   ]
  },
  {
   "cell_type": "markdown",
   "id": "4772ccfd-4ccc-4f02-80c1-10617440d5c0",
   "metadata": {},
   "source": [
    "##  Step 2: Drop Irrelevant Columns\n",
    "\n",
    "We remove the `\"Univ\"` column since it's a label and not useful for clustering. This ensures our clustering is based purely on numerical features."
   ]
  },
  {
   "cell_type": "code",
   "execution_count": null,
   "id": "dd5d7daa",
   "metadata": {},
   "outputs": [],
   "source": [
    "new_df=df.drop(\"Univ\",axis=1)\n",
    "new_df"
   ]
  },
  {
   "cell_type": "code",
   "execution_count": null,
   "id": "a09ecbed",
   "metadata": {},
   "outputs": [],
   "source": [
    "from sklearn.preprocessing  import StandardScaler"
   ]
  },
  {
   "cell_type": "markdown",
   "id": "11cfaf9d-17e0-4b80-bea9-4eca4555c3b2",
   "metadata": {},
   "source": [
    "##  Step 3: Feature Scaling with StandardScaler\n",
    "\n",
    "To ensure fair clustering, we scale all features using `StandardScaler`. This standardizes each feature to have mean 0 and variance 1."
   ]
  },
  {
   "cell_type": "code",
   "execution_count": null,
   "id": "21338b06-d627-4045-b16f-6f5571ecfe7a",
   "metadata": {},
   "outputs": [],
   "source": [
    "for col in new_df:\n",
    "    ss= StandardScaler() \n",
    "    new_df[col]=ss.fit_transform(new_df[[col]]) \n"
   ]
  },
  {
   "cell_type": "markdown",
   "id": "ef625700-686d-48ea-932d-6ee52547a051",
   "metadata": {},
   "source": [
    "## Step 4: Elbow Method to Determine Optimal Clusters\n",
    "\n",
    "We compute Within-Cluster Sum of Squares (WCSS) for cluster counts from 1 to 8. The Elbow Method helps us choose the best number of clusters by identifying the point where WCSS starts to flatten."
   ]
  },
  {
   "cell_type": "code",
   "execution_count": null,
   "id": "5cdc8fc3",
   "metadata": {},
   "outputs": [],
   "source": [
    "wcss=[]\n",
    "clusters=list(range(1,9))\n",
    "for K in clusters:\n",
    "    model=KMeans(n_clusters=K)\n",
    "    model.fit(new_df)\n",
    "    wcss.append(model.inertia_)"
   ]
  },
  {
   "cell_type": "code",
   "execution_count": null,
   "id": "6e203b2a",
   "metadata": {},
   "outputs": [],
   "source": [
    "plt.figure()\n",
    "plt.plot(clusters,wcss,\"x-\")\n",
    "plt.xlabel(\"K\")\n",
    "plt.ylabel(\"WCSS\")\n",
    "plt.show()\n"
   ]
  },
  {
   "cell_type": "markdown",
   "id": "70043259",
   "metadata": {},
   "source": [
    "albo method is graphical representation of finding the optimal K in k means clustering it works by finding WCSS  that is the sum of square distance between points in a cluster and the clusters centroid "
   ]
  },
  {
   "cell_type": "code",
   "execution_count": null,
   "id": "252c058f",
   "metadata": {},
   "outputs": [],
   "source": [
    "model=KMeans(n_clusters=3)\n",
    "model.fit(new_df)"
   ]
  },
  {
   "cell_type": "code",
   "execution_count": null,
   "id": "9cc5139a",
   "metadata": {},
   "outputs": [],
   "source": [
    "model.labels_"
   ]
  },
  {
   "cell_type": "code",
   "execution_count": null,
   "id": "a683928c",
   "metadata": {},
   "outputs": [],
   "source": [
    "df.columns"
   ]
  },
  {
   "cell_type": "code",
   "execution_count": null,
   "id": "d2b7688c",
   "metadata": {},
   "outputs": [],
   "source": [
    "df[\"labels\"]=model.labels_"
   ]
  },
  {
   "cell_type": "code",
   "execution_count": null,
   "id": "2bb3f4f6",
   "metadata": {},
   "outputs": [],
   "source": [
    "df.head()"
   ]
  },
  {
   "cell_type": "code",
   "execution_count": null,
   "id": "bea1998c",
   "metadata": {},
   "outputs": [],
   "source": [
    "df[df['labels']==0][\"Univ\"]"
   ]
  },
  {
   "cell_type": "code",
   "execution_count": null,
   "id": "96d2e02d",
   "metadata": {},
   "outputs": [],
   "source": [
    "df[df['labels']==1][\"Univ\"]"
   ]
  },
  {
   "cell_type": "code",
   "execution_count": null,
   "id": "727d444f",
   "metadata": {},
   "outputs": [],
   "source": [
    "df[df['labels']==2][\"Univ\"]"
   ]
  },
  {
   "cell_type": "code",
   "execution_count": null,
   "id": "6f0ebf8e",
   "metadata": {},
   "outputs": [],
   "source": [
    "from sklearn.decomposition import PCA"
   ]
  },
  {
   "cell_type": "markdown",
   "id": "7d6faad0-c4ad-47f8-8428-1c5a6dd35d07",
   "metadata": {},
   "source": [
    "##  Step 6: Reduce Dimensions with PCA\n",
    "\n",
    "We apply Principal Component Analysis (PCA) to reduce the dataset to 3 dimensions. This enables us to visualize clusters in 3D space while preserving maximum variance."
   ]
  },
  {
   "cell_type": "code",
   "execution_count": null,
   "id": "fa2dc0e5",
   "metadata": {},
   "outputs": [],
   "source": [
    "pca = PCA(n_components=3,random_state=1)"
   ]
  },
  {
   "cell_type": "code",
   "execution_count": null,
   "id": "ab7c7465",
   "metadata": {},
   "outputs": [],
   "source": [
    "components=pca.fit_transform(new_df)\n",
    "components"
   ]
  },
  {
   "cell_type": "code",
   "execution_count": null,
   "id": "407a3df3",
   "metadata": {},
   "outputs": [],
   "source": [
    "pc1=components[:,0]\n",
    "pc2=components[:,1]\n",
    "pc3=components[:,2]"
   ]
  },
  {
   "cell_type": "markdown",
   "id": "19d57ca2-3366-47ba-ba6c-1197f4c9e9ed",
   "metadata": {},
   "source": [
    "##  Step 7: Visualize Clusters in 3D\n",
    "\n",
    "Using `matplotlib`, we plot the PCA components in a 3D scatter plot. Each point is colored by its cluster label, offering intuitive visual insights into cluster separation."
   ]
  },
  {
   "cell_type": "code",
   "execution_count": null,
   "id": "3da8477c",
   "metadata": {},
   "outputs": [],
   "source": [
    "fig=plt.figure(figsize=(8,8))\n",
    "ax=plt.axes(projection='3d')\n",
    "ax.scatter(pc1,pc2,pc3 ,c=df['labels'])\n",
    "plt.show()"
   ]
  },
  {
   "cell_type": "code",
   "execution_count": null,
   "id": "1c6961fd",
   "metadata": {},
   "outputs": [],
   "source": [
    "plt.figure(figsize=(6,4))\n",
    "plt.plot(clusters, wcss, marker='o')\n",
    "plt.title('Elbow Method for Optimal K')\n",
    "plt.xlabel('Number of Clusters')\n",
    "plt.ylabel('WCSS')\n",
    "plt.grid(True)\n",
    "plt.show()"
   ]
  },
  {
   "cell_type": "markdown",
   "id": "8038ebff-a164-4930-b134-5998fc2512b4",
   "metadata": {},
   "source": [
    "##  Elbow Method: Choosing Optimal Clusters\n",
    "This plot helps identify the ideal number of clusters by locating the 'elbow' point where WCSS starts to flatten.\n",
    "\n"
   ]
  },
  {
   "cell_type": "code",
   "execution_count": null,
   "id": "e82d56d0-8112-40f7-85aa-609a1e7f969e",
   "metadata": {},
   "outputs": [],
   "source": [
    "df['Cluster'] = model.labels_\n",
    "df.head()"
   ]
  },
  {
   "cell_type": "markdown",
   "id": "7a2fd62d-7112-4c72-a588-dee83a53b661",
   "metadata": {},
   "source": [
    "##  Cluster Labels Assigned to Each University\n",
    "Here’s how each university was grouped based on multivariate features."
   ]
  },
  {
   "cell_type": "code",
   "execution_count": null,
   "id": "0c1b91b1-bc9a-4687-b05a-ef4bc09f89c7",
   "metadata": {},
   "outputs": [],
   "source": [
    "df.groupby('Cluster').mean(numeric_only=True)"
   ]
  },
  {
   "cell_type": "markdown",
   "id": "eb414bbc-7e93-4641-aea7-7b91ba8530db",
   "metadata": {},
   "source": [
    "##  Cluster-Wise Feature Averages\n",
    "This table shows the average values of each feature per cluster, helping interpret group characteristics."
   ]
  },
  {
   "cell_type": "code",
   "execution_count": null,
   "id": "f8c8f17c-b015-4d44-8df1-4f2d96c8deaa",
   "metadata": {},
   "outputs": [],
   "source": [
    "df.to_excel(\"Clustered_Universities.xlsx\", index=False)"
   ]
  },
  {
   "cell_type": "markdown",
   "id": "353c42af-362b-4dea-9ea8-45e017e52b27",
   "metadata": {},
   "source": [
    "## Exporting Results\n",
    "Clustered data saved for downstream use or integration into microservices."
   ]
  },
  {
   "cell_type": "code",
   "execution_count": null,
   "id": "d636de72-b5c6-4f2a-a26e-8398399553fd",
   "metadata": {},
   "outputs": [],
   "source": []
  }
 ],
 "metadata": {
  "kernelspec": {
   "display_name": "base",
   "language": "python",
   "name": "python3"
  },
  "language_info": {
   "codemirror_mode": {
    "name": "ipython",
    "version": 3
   },
   "file_extension": ".py",
   "mimetype": "text/x-python",
   "name": "python",
   "nbconvert_exporter": "python",
   "pygments_lexer": "ipython3",
   "version": "3.11.5"
  }
 },
 "nbformat": 4,
 "nbformat_minor": 5
}
